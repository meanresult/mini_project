{
 "cells": [
  {
   "cell_type": "code",
   "execution_count": 9,
   "id": "34367a94-5bd6-4757-8647-f210aae7a7b2",
   "metadata": {},
   "outputs": [
    {
     "name": "stdout",
     "output_type": "stream",
     "text": [
      "=============================================\n",
      "                 또!젤라또                  \n",
      "=============================================\n",
      "어서오세요 아이스크림을 또 주는 또젤라또입니다\n",
      "\n",
      "=============================================\n",
      "1. 또젤라또           1가지맛      3,000원\n",
      "2. 또또젤라또          2가지맛      5,000원\n",
      "3. 또또또젤라또         3가지맛      7,000원\n",
      "=============================================\n"
     ]
    },
    {
     "name": "stdin",
     "output_type": "stream",
     "text": [
      "주문할 메뉴 번호를 입력해주세요:  1\n"
     ]
    },
    {
     "name": "stdout",
     "output_type": "stream",
     "text": [
      "\n",
      "'또젤라또' 선택 — 1가지 맛을 골라주세요\n",
      "1. 달콤초코봄바람\n",
      "2. 새콤달콤딸기정원\n",
      "3. 요거트빛파도\n",
      "4. 말차소풍\n",
      "5. 체리팝송\n",
      "6. 포도에몽\n",
      "7. 바닐라하모니\n",
      "8. 쿠키크러쉬\n",
      "9. 소금바다우유\n",
      "10. 블루베리썸머\n",
      "11. 스윗피치\n",
      "12. 레몬샤워\n"
     ]
    },
    {
     "name": "stdin",
     "output_type": "stream",
     "text": [
      "\n",
      "맛 번호들을 숫자로 입력하세요 (예: 1, 3, 5) / '0' 입력시 취소:  1\n"
     ]
    },
    {
     "name": "stdout",
     "output_type": "stream",
     "text": [
      "\n",
      "선택한 주문:\n",
      "메뉴: 또젤라또\n",
      " - 맛 1: 달콤초코봄바람\n",
      "가격: 3,000원\n"
     ]
    },
    {
     "name": "stdin",
     "output_type": "stream",
     "text": [
      "\n",
      "이 주문을 장바구니에 추가할까요? (Y: 추가 / N: 취소):  y\n"
     ]
    },
    {
     "name": "stdout",
     "output_type": "stream",
     "text": [
      "주문이 추가되었습니다.\n"
     ]
    },
    {
     "name": "stdin",
     "output_type": "stream",
     "text": [
      "\n",
      "더 주문하시겠습니까? (Y/N):  n\n"
     ]
    },
    {
     "name": "stdout",
     "output_type": "stream",
     "text": [
      "\n",
      "=============================================\n",
      "총 결제 금액: 3,000원\n"
     ]
    },
    {
     "name": "stdin",
     "output_type": "stream",
     "text": [
      "포인트 적립하시겠습니까? (Y/N):  y\n",
      "전화번호를 입력해주세요:  010-5845-2460\n"
     ]
    },
    {
     "name": "stdout",
     "output_type": "stream",
     "text": [
      "💳 기존 회원! 30포인트 적립 → 총 530포인트\n",
      "\n",
      "010-5845-2460님, 주문 감사합니다! 또 오세요.\n",
      "=============================================\n"
     ]
    }
   ],
   "source": [
    "store_name = '또!젤라또'\n",
    "\n",
    "menu_list = [\n",
    "    {'name':'또젤라또','count':'1가지맛', 'price':3000},\n",
    "    {'name':'또또젤라또','count':'2가지맛', 'price':5000},\n",
    "    {'name':'또또또젤라또','count':'3가지맛', 'price':7000}\n",
    "]\n",
    "\n",
    "flavor_list = [\n",
    "    {'flavor':'달콤초코봄바람'},\n",
    "    {'flavor':'새콤달콤딸기정원'},\n",
    "    {'flavor':'요거트빛파도'},\n",
    "    {'flavor':'말차소풍'},\n",
    "    {'flavor':'체리팝송'},\n",
    "    {'flavor':'포도에몽'},\n",
    "    {'flavor':'바닐라하모니'},\n",
    "    {'flavor':'쿠키크러쉬'},\n",
    "    {'flavor':'소금바다우유'},\n",
    "    {'flavor':'블루베리썸머'},\n",
    "    {'flavor':'스윗피치'},\n",
    "    {'flavor':'레몬샤워'},\n",
    "]\n",
    "\n",
    "orders = []\n",
    "\n",
    "phone_number = [{'membership_nb':'010-5845-2460','membership_point':500}]\n",
    "\n",
    "while True:\n",
    "    print(\"=\"*45)\n",
    "    print(f'{store_name:^40}')\n",
    "    print(\"=\"*45)\n",
    "    print(\"어서오세요 아이스크림을 또 주는 또젤라또입니다\\n\")\n",
    "    \n",
    "    # 메뉴 선택\n",
    "    print(\"=\"*45)\n",
    "    for i, menu in enumerate(menu_list):\n",
    "        print(f'{i + 1}. {menu[\"name\"]:<6} {menu[\"count\"]:>12} {menu[\"price\"]:>10,}원')\n",
    "    print(\"=\"*45)\n",
    "\n",
    "    order_input = input('주문할 메뉴 번호를 입력해주세요: ').strip()\n",
    "\n",
    "    if not order_input.isdigit() or int(order_input) < 1 or int(order_input) > len(menu_list):\n",
    "        print(\"잘못된 입력입니다. 다시 시도해주세요.\\n\")\n",
    "        continue\n",
    "\n",
    "    order_num = int(order_input) - 1\n",
    "    selected_menu = menu_list[order_num]\n",
    "    flavor_count = int(selected_menu['count'][0])\n",
    "\n",
    "    # 맛 선택\n",
    "    print(f\"\\n'{selected_menu['name']}' 선택 — {flavor_count}가지 맛을 골라주세요\")\n",
    "    for i, fla in enumerate(flavor_list):\n",
    "        print(f\"{i+1}. {fla['flavor']}\")\n",
    "\n",
    "    while True:\n",
    "        flavor_input = input(\"\\n맛 번호들을 숫자로 입력하세요 (예: 1, 3, 5) / '0' 입력시 취소: \")\n",
    "        if flavor_input.strip() == '0':\n",
    "            print(\"주문을 취소하고 메뉴 선택으로 돌아갑니다.\\n\")\n",
    "            break\n",
    "\n",
    "        parts = flavor_input.split(',')\n",
    "        flavor_nums = [int(p.strip()) - 1 for p in parts if p.strip().isdigit()]\n",
    "\n",
    "        if len(flavor_nums) != flavor_count or any(i < 0 or i >= len(flavor_list) for i in flavor_nums):\n",
    "            print(f\"정확히 {flavor_count}가지 맛을 선택해주세요.\")\n",
    "            continue\n",
    "\n",
    "        selected_flavors = [flavor_list[i]['flavor'] for i in flavor_nums]\n",
    "\n",
    "        # 주문 요약 보여주고 확인\n",
    "        print(\"\\n선택한 주문:\")\n",
    "        print(f\"메뉴: {selected_menu['name']}\")\n",
    "        for idx, name in enumerate(selected_flavors):\n",
    "            print(f\" - 맛 {idx+1}: {name}\")\n",
    "        print(f\"가격: {selected_menu['price']:,}원\")\n",
    "\n",
    "        confirm = input(\"\\n이 주문을 장바구니에 추가할까요? (Y: 추가 / N: 취소): \").strip().lower()\n",
    "        if confirm == 'y':\n",
    "            orders.append({\n",
    "                'menu_name': selected_menu['name'],\n",
    "                'flavor_names': selected_flavors,\n",
    "                'price': selected_menu['price']\n",
    "            })\n",
    "            print(\"주문이 추가되었습니다.\")\n",
    "            break\n",
    "        else:\n",
    "            print(\"주문을 취소하고 메뉴 선택으로 돌아갑니다.\")\n",
    "            break\n",
    "\n",
    "    # 장바구니에 추가된 주문이 없으면 다음으로 안넘어감\n",
    "    if len(orders) == 0:\n",
    "        continue\n",
    "\n",
    "    another = input('\\n더 주문하시겠습니까? (Y/N): ').strip().lower()\n",
    "    if another != 'y':\n",
    "        break\n",
    "\n",
    "    # 전체 주문 확인 및 취소\n",
    "    print(\"\\n전체 주문 내역:\")\n",
    "    for i, order in enumerate(orders):\n",
    "        print(f\"{i+1}. {order['menu_name']} — {order['price']:,}원\")\n",
    "\n",
    "        for idx, name in enumerate(order['flavor_names']):\n",
    "            print(f\"   - 맛 {idx+1}: {name}\")\n",
    "    \n",
    "\n",
    "\n",
    "# 최종 결제\n",
    "total_price = sum(order['price'] for order in orders)\n",
    "print('\\n' + '='*45)\n",
    "print(f\"총 결제 금액: {total_price:,}원\")\n",
    "\n",
    "if total_price == 0:\n",
    "    print(\"남은 주문이 없습니다. 프로그램을 종료합니다.\")\n",
    "    exit()\n",
    "\n",
    "\n",
    "\n",
    "point_q = input('포인트 적립하시겠습니까? (Y/N): ').strip().lower()\n",
    "if point_q == 'y':\n",
    "    membership = input(\"전화번호를 입력해주세요: \")\n",
    "    saved_point = total_price // 100\n",
    "    user = [u for u in phone_number if u['membership_nb'] == membership ]\n",
    "    # for pn in phone_number:\n",
    "        \n",
    "    if user:\n",
    "        user = user[0] # user에서 일치하는 단 하나의 값만 뽑았기 때문에 리스트에서 0값을 추출하면 됨 \n",
    "        # 기존 사용자 → 포인트 누적\n",
    "        user['membership_point'] += saved_point\n",
    "        total_point = user['membership_point']\n",
    "        print(f\"💳 기존 회원! {saved_point}포인트 적립 → 총 {total_point}포인트\")\n",
    "\n",
    "    else:\n",
    "# 신규 등록\n",
    "        phone_number.append({\n",
    "            'membership_nb': membership,\n",
    "            'membership_point': saved_point\n",
    "        })\n",
    "        print(f\"📲 새로운 멤버십 등록! {saved_point}포인트 적립 완료\")\n",
    "        \n",
    "else:\n",
    "    membership = \"고객\"\n",
    "\n",
    "#point_uq = input('포인트를 사용하시겠습니까?)\n",
    "\n",
    "print(f\"\\n{membership}님, 주문 감사합니다! 또 오세요.\")\n",
    "print(\"=\"*45)"
   ]
  },
  {
   "cell_type": "code",
   "execution_count": 5,
   "id": "badbdd1b-209d-4b83-83e6-149ab7a8c786",
   "metadata": {},
   "outputs": [
    {
     "name": "stdin",
     "output_type": "stream",
     "text": [
      "포인트 적립하시겠습니까? (Y/N):  y\n",
      "전화번호를 입력해주세요:  01012345678\n"
     ]
    },
    {
     "name": "stdout",
     "output_type": "stream",
     "text": [
      "💳 기존 회원! 55포인트 적립 → 총 555포인트\n"
     ]
    }
   ],
   "source": [
    "phone_number = [\n",
    "    {'membership_nb': '01012345678', 'membership_point': 500},\n",
    "    {'membership_nb': '01087654321', 'membership_point': 1000}\n",
    "]\n",
    "\n",
    "total_price = 5500\n",
    "\n",
    "point_q = input('포인트 적립하시겠습니까? (Y/N): ').strip().lower()\n",
    "if point_q == 'y':\n",
    "    membership = input(\"전화번호를 입력해주세요: \")\n",
    "    saved_point = total_price // 100\n",
    "\n",
    "    user = [u for u in phone_number if u['membership_nb'] == membership]\n",
    "\n",
    "    if user:\n",
    "        user = user[0] # user에서 일치하는 단 하나의 값만 뽑았기 때문에 리스트에서 0값을 추출하면 됨 \n",
    "        user['membership_point'] += saved_point\n",
    "        print(f\"💳 기존 회원! {saved_point}포인트 적립 → 총 {user['membership_point']}포인트\")\n",
    "    else:\n",
    "        print(\"📱 등록되지 않은 회원입니다. 신규 등록이 필요합니다.\")\n",
    "        phone_number.append({\n",
    "            'membership_nb': membership,\n",
    "            'membership_point': saved_point\n",
    "        })\n",
    "        print(f\"🎉 신규 등록 완료! {saved_point}포인트가 적립되었습니다.\")\n"
   ]
  }
 ],
 "metadata": {
  "kernelspec": {
   "display_name": "Python 3 (ipykernel)",
   "language": "python",
   "name": "python3"
  },
  "language_info": {
   "codemirror_mode": {
    "name": "ipython",
    "version": 3
   },
   "file_extension": ".py",
   "mimetype": "text/x-python",
   "name": "python",
   "nbconvert_exporter": "python",
   "pygments_lexer": "ipython3",
   "version": "3.12.9"
  }
 },
 "nbformat": 4,
 "nbformat_minor": 5
}
